{
 "cells": [
  {
   "cell_type": "code",
   "execution_count": 109,
   "metadata": {
    "collapsed": false
   },
   "outputs": [],
   "source": [
    "# check each 8 directions\n",
    "BOARD_DIRECTIONS = [\n",
    "    [1,0],\n",
    "    [1,-1],\n",
    "    [0,-1],\n",
    "    [-1,-1],\n",
    "    [-1,0],\n",
    "    [-1,1],\n",
    "    [0,1],\n",
    "    [1,1],\n",
    "]\n",
    "\n",
    "def is_in_board(board, x, y):\n",
    "    board_width, board_height = get_board_dims(board)\n",
    "    return 0 <= x < board_width and 0 <= y < board_height\n",
    "\n",
    "def is_valid_move(board, player, x, y):\n",
    "    if not is_in_board(board, x, y) or board[x][y] != 0:\n",
    "        return\n",
    "    other_player = 1\n",
    "    if player == 1:\n",
    "        other_player = 2\n",
    "    \n",
    "    # Temporarily place tile at x,y\n",
    "    board[y][x] = player\n",
    "    tiles_to_flip = []\n",
    "    global BOARD_DIRECTIONS\n",
    "    for x_delta, y_delta in BOARD_DIRECTIONS:\n",
    "        x_curr = x + x_delta\n",
    "        y_curr = y + y_delta\n",
    "        if not is_in_board(board, x_curr, y_curr):\n",
    "            continue\n",
    "        tile_buffer = []\n",
    "        while board[y_curr][x_curr] == other_player:\n",
    "            tile_buffer.append([x_curr, y_curr])\n",
    "            x_curr += x_delta\n",
    "            y_curr += y_delta\n",
    "            if not is_in_board(board, x_curr, y_curr):\n",
    "                break\n",
    "        if board[y_curr][x_curr] == player:\n",
    "            tiles_to_flip.extend(tile_buffer)\n",
    "    # Remove temporary tile at x,y\n",
    "    board[y][x] = 0\n",
    "    if len(tiles_to_flip) == 0:\n",
    "        return None\n",
    "    return tiles_to_flip\n",
    "\n",
    "def get_board_dims(board):\n",
    "    # returns [cols, rows]\n",
    "    return [len(board[0]), len(board)]\n",
    "\n",
    "def get_valid_moves(board, player):\n",
    "    cols, rows = get_board_dims(board)\n",
    "    valid_moves = [[None for x in range(cols)] for y in range(rows)]\n",
    "    for x in range(cols):\n",
    "        for y in range(rows):\n",
    "            if board[y][x] == 0:\n",
    "                valid_moves[y][x] = is_valid_move(board, player, x, y)\n",
    "    return valid_moves"
   ]
  },
  {
   "cell_type": "code",
   "execution_count": 110,
   "metadata": {
    "collapsed": false
   },
   "outputs": [
    {
     "name": "stdout",
     "output_type": "stream",
     "text": [
      "(0, 0)\n",
      "(0, 1)\n",
      "(0, 2)\n",
      "(0, 3)\n",
      "(0, 4)\n",
      "(1, 0)\n",
      "(1, 1)\n",
      "(1, 2)\n",
      "(1, 3)\n",
      "(1, 4)\n",
      "(2, 0)\n",
      "(2, 1)\n",
      "(2, 2)\n",
      "(2, 3)\n",
      "(2, 4)\n",
      "(3, 0)\n",
      "(3, 1)\n",
      "(3, 2)\n",
      "(3, 3)\n",
      "(3, 4)\n",
      "(4, 0)\n",
      "(4, 1)\n",
      "(4, 2)\n",
      "(4, 3)\n",
      "(4, 4)\n",
      "[[None, None, None, None, None], [None, None, None, [[3, 2]], None], [None, None, None, None, [[3, 2]]], [None, [[2, 3]], None, None, None], [None, None, [[2, 3]], None, None]]\n"
     ]
    }
   ],
   "source": [
    "test_board = [\n",
    "    [0,0,0,0,0],\n",
    "    [0,0,0,0,0],\n",
    "    [0,0,1,2,0],\n",
    "    [0,0,2,1,0],\n",
    "    [0,0,0,0,0]\n",
    "]\n",
    "print(get_valid_moves(test_board, 1))"
   ]
  },
  {
   "cell_type": "code",
   "execution_count": 103,
   "metadata": {
    "collapsed": false
   },
   "outputs": [
    {
     "name": "stdout",
     "output_type": "stream",
     "text": [
      "[[3, 2]]\n"
     ]
    }
   ],
   "source": [
    "print(is_valid_move(test_board, 1, 3, 1))"
   ]
  },
  {
   "cell_type": "code",
   "execution_count": 48,
   "metadata": {
    "collapsed": false
   },
   "outputs": [
    {
     "name": "stderr",
     "output_type": "stream",
     "text": [
      "test_is_in_board (__main__.ReversiTests) ... ok\n",
      "test_is_valid_move (__main__.ReversiTests) ... FAIL\n",
      "\n",
      "======================================================================\n",
      "FAIL: test_is_valid_move (__main__.ReversiTests)\n",
      "----------------------------------------------------------------------\n",
      "Traceback (most recent call last):\n",
      "  File \"<ipython-input-48-c04a30a75e20>\", line 14, in test_is_valid_move\n",
      "    self.assertEqual(is_valid_move(test_board, 1, 0, 0), None)\n",
      "AssertionError: False != None\n",
      "\n",
      "----------------------------------------------------------------------\n",
      "Ran 2 tests in 0.005s\n",
      "\n",
      "FAILED (failures=1)\n"
     ]
    },
    {
     "data": {
      "text/plain": [
       "<unittest.runner.TextTestResult run=2 errors=0 failures=1>"
      ]
     },
     "execution_count": 48,
     "metadata": {},
     "output_type": "execute_result"
    }
   ],
   "source": [
    "import unittest\n",
    "\n",
    "class ReversiTests(unittest.TestCase):\n",
    "\n",
    "    def test_is_valid_move(self):\n",
    "        test_board = [\n",
    "            [0,0,0,0,0],\n",
    "            [0,0,0,0,0],\n",
    "            [0,0,1,2,0],\n",
    "            [0,0,2,1,0],\n",
    "            [0,0,0,0,0]\n",
    "        ]\n",
    "        self.assertEqual(is_valid_move(test_board, 1, 3, 1), [[3,2]])\n",
    "        self.assertEqual(is_valid_move(test_board, 1, 0, 0), None)\n",
    "        test_board_2 = [\n",
    "            [0,0,1,0,1],\n",
    "            [0,0,2,2,0],\n",
    "            [0,0,0,0,0],\n",
    "            [0,0,0,0,0],\n",
    "            [0,0,0,0,0]\n",
    "        ]\n",
    "        self.assertEqual(is_valid_move(test_board_2, 1, 2, 2), [[3,1], [2,1]])\n",
    "        self.assertEqual(is_valid_move(test_board_2, 1, 3, 0), None)\n",
    "\n",
    "    def test_is_in_board(self):\n",
    "        test_board = [[0]*5]*5\n",
    "        self.assertEqual(is_in_board(test_board, 4, 4), True)\n",
    "        self.assertEqual(is_in_board(test_board, 6, 4), False)\n",
    "        self.assertEqual(is_in_board(test_board, 4, -1), False)\n",
    "\n",
    "suite = unittest.TestLoader().loadTestsFromTestCase(ReversiTests)\n",
    "unittest.TextTestRunner(verbosity=2).run(suite)"
   ]
  },
  {
   "cell_type": "code",
   "execution_count": 85,
   "metadata": {
    "collapsed": false
   },
   "outputs": [],
   "source": [
    "lol = [[0]*5]*5"
   ]
  },
  {
   "cell_type": "code",
   "execution_count": 86,
   "metadata": {
    "collapsed": false
   },
   "outputs": [],
   "source": [
    "lol[2][2] = 6"
   ]
  },
  {
   "cell_type": "code",
   "execution_count": 87,
   "metadata": {
    "collapsed": false
   },
   "outputs": [
    {
     "data": {
      "text/plain": [
       "[[0, 0, 6, 0, 0],\n",
       " [0, 0, 6, 0, 0],\n",
       " [0, 0, 6, 0, 0],\n",
       " [0, 0, 6, 0, 0],\n",
       " [0, 0, 6, 0, 0]]"
      ]
     },
     "execution_count": 87,
     "metadata": {},
     "output_type": "execute_result"
    }
   ],
   "source": [
    "lol"
   ]
  },
  {
   "cell_type": "code",
   "execution_count": 88,
   "metadata": {
    "collapsed": false
   },
   "outputs": [
    {
     "data": {
      "text/plain": [
       "list"
      ]
     },
     "execution_count": 88,
     "metadata": {},
     "output_type": "execute_result"
    }
   ],
   "source": [
    "type(lol)"
   ]
  },
  {
   "cell_type": "code",
   "execution_count": 89,
   "metadata": {
    "collapsed": true
   },
   "outputs": [],
   "source": [
    "lmao = [[0 for x in range(5)] for y in range(5)]"
   ]
  },
  {
   "cell_type": "code",
   "execution_count": 90,
   "metadata": {
    "collapsed": false
   },
   "outputs": [
    {
     "data": {
      "text/plain": [
       "[[0, 0, 0, 0, 0],\n",
       " [0, 0, 0, 0, 0],\n",
       " [0, 0, 0, 0, 0],\n",
       " [0, 0, 0, 0, 0],\n",
       " [0, 0, 0, 0, 0]]"
      ]
     },
     "execution_count": 90,
     "metadata": {},
     "output_type": "execute_result"
    }
   ],
   "source": [
    "lmao"
   ]
  },
  {
   "cell_type": "code",
   "execution_count": 91,
   "metadata": {
    "collapsed": true
   },
   "outputs": [],
   "source": [
    "lmao[2][2] = 6"
   ]
  },
  {
   "cell_type": "code",
   "execution_count": 92,
   "metadata": {
    "collapsed": false
   },
   "outputs": [
    {
     "data": {
      "text/plain": [
       "[[0, 0, 0, 0, 0],\n",
       " [0, 0, 0, 0, 0],\n",
       " [0, 0, 6, 0, 0],\n",
       " [0, 0, 0, 0, 0],\n",
       " [0, 0, 0, 0, 0]]"
      ]
     },
     "execution_count": 92,
     "metadata": {},
     "output_type": "execute_result"
    }
   ],
   "source": [
    "lmao"
   ]
  },
  {
   "cell_type": "code",
   "execution_count": null,
   "metadata": {
    "collapsed": true
   },
   "outputs": [],
   "source": []
  }
 ],
 "metadata": {
  "kernelspec": {
   "display_name": "Python 2",
   "language": "python",
   "name": "python2"
  },
  "language_info": {
   "codemirror_mode": {
    "name": "ipython",
    "version": 2
   },
   "file_extension": ".py",
   "mimetype": "text/x-python",
   "name": "python",
   "nbconvert_exporter": "python",
   "pygments_lexer": "ipython2",
   "version": "2.7.13"
  }
 },
 "nbformat": 4,
 "nbformat_minor": 2
}

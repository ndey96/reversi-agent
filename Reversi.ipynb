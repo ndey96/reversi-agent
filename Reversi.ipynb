{
 "cells": [
  {
   "cell_type": "code",
   "execution_count": 29,
   "metadata": {
    "collapsed": false
   },
   "outputs": [],
   "source": [
    "# check each 8 directions\n",
    "BOARD_DIRECTIONS = [\n",
    "    [1,0],\n",
    "    [1,-1],\n",
    "    [0,-1],\n",
    "    [-1,-1],\n",
    "    [-1,0],\n",
    "    [-1,1],\n",
    "    [0,1],\n",
    "    [1,1],\n",
    "]\n",
    "\n",
    "def is_in_board(board, x, y):\n",
    "    board_width = len(board[0])\n",
    "    board_height = len(board)\n",
    "    return 0 <= x < board_width and 0 <= y < board_height\n",
    "\n",
    "def is_valid_move(board, player, x, y):\n",
    "    if not is_in_board(board, x, y) or board[x][y] != 0:\n",
    "        return\n",
    "    other_player = 1\n",
    "    if player == 1:\n",
    "        other_player = 2\n",
    "    \n",
    "    # Temporarily place tile at x,y\n",
    "    board[y][x] = player\n",
    "    tiles_to_flip = []\n",
    "    global BOARD_DIRECTIONS\n",
    "    for x_delta, y_delta in BOARD_DIRECTIONS:\n",
    "        x_curr = x + x_delta\n",
    "        y_curr = y + y_delta\n",
    "        if not is_in_board(board, x_curr, y_curr):\n",
    "            continue\n",
    "        tile_buffer = []\n",
    "        while board[y_curr][x_curr] == other_player:\n",
    "            tile_buffer.append([x_curr, y_curr])\n",
    "            x_curr += x_delta\n",
    "            y_curr += y_delta\n",
    "            if not is_in_board(board, x_curr, y_curr):\n",
    "                break\n",
    "        if board[y_curr][x_curr] == player:\n",
    "            tiles_to_flip.extend(tile_buffer)\n",
    "    # Remove temporary tile at x,y\n",
    "    board[y][x] = 0\n",
    "    if len(tiles_to_flip) == 0:\n",
    "        return False\n",
    "    return tiles_to_flip"
   ]
  },
  {
   "cell_type": "code",
   "execution_count": 30,
   "metadata": {
    "collapsed": false
   },
   "outputs": [
    {
     "name": "stdout",
     "output_type": "stream",
     "text": [
      "[[3, 2]]\n"
     ]
    }
   ],
   "source": [
    "test_board = [\n",
    "    [0,0,0,0,0],\n",
    "    [0,0,0,0,0],\n",
    "    [0,0,1,2,0],\n",
    "    [0,0,2,1,0],\n",
    "    [0,0,0,0,0]\n",
    "]\n",
    "# print(test_board)\n",
    "print(is_valid_move(test_board, 1, 3, 1))"
   ]
  },
  {
   "cell_type": "code",
   "execution_count": 31,
   "metadata": {
    "collapsed": false
   },
   "outputs": [
    {
     "data": {
      "text/plain": [
       "[[0, 0, 0, 0, 0],\n",
       " [0, 0, 0, 0, 0],\n",
       " [0, 0, 1, 2, 0],\n",
       " [0, 0, 2, 1, 0],\n",
       " [0, 0, 0, 0, 0]]"
      ]
     },
     "execution_count": 31,
     "metadata": {},
     "output_type": "execute_result"
    }
   ],
   "source": [
    "test_board"
   ]
  },
  {
   "cell_type": "code",
   "execution_count": 3,
   "metadata": {
    "collapsed": false
   },
   "outputs": [
    {
     "data": {
      "text/plain": [
       "True"
      ]
     },
     "execution_count": 3,
     "metadata": {},
     "output_type": "execute_result"
    }
   ],
   "source": [
    "is_in_board(test_board, 4, 4)"
   ]
  },
  {
   "cell_type": "code",
   "execution_count": 46,
   "metadata": {
    "collapsed": false
   },
   "outputs": [],
   "source": [
    "# import unittest\n",
    "\n",
    "# class ReversiTests(unittest.TestCase):\n",
    "\n",
    "#     def test_upper(self):\n",
    "#         self.assertEqual('foo'.upper(), 'FOO')\n",
    "\n",
    "#     def test_is_in_board(self):\n",
    "#         test_board = []\n",
    "#         self.assertEqual\n",
    "\n",
    "# suite = unittest.TestLoader().loadTestsFromTestCase(ReversiTests)\n",
    "# unittest.TextTestRunner(verbosity=2).run(suite)"
   ]
  },
  {
   "cell_type": "code",
   "execution_count": 9,
   "metadata": {
    "collapsed": false
   },
   "outputs": [
    {
     "name": "stdout",
     "output_type": "stream",
     "text": [
      "(1, 0)\n",
      "(2, 3)\n"
     ]
    }
   ],
   "source": [
    "for x,y in [[1,0], [2,3]]:\n",
    "    print(x,y)"
   ]
  },
  {
   "cell_type": "code",
   "execution_count": 18,
   "metadata": {
    "collapsed": false
   },
   "outputs": [
    {
     "data": {
      "text/plain": [
       "[[1, 2], [1, 3]]"
      ]
     },
     "execution_count": 18,
     "metadata": {},
     "output_type": "execute_result"
    }
   ],
   "source": [
    "a = []\n",
    "a.append([1,2])\n",
    "a.append([1,3])\n",
    "\n",
    "\n",
    "a"
   ]
  },
  {
   "cell_type": "code",
   "execution_count": 21,
   "metadata": {
    "collapsed": false
   },
   "outputs": [],
   "source": [
    "a.extend([[3,4]])"
   ]
  },
  {
   "cell_type": "code",
   "execution_count": 22,
   "metadata": {
    "collapsed": false
   },
   "outputs": [
    {
     "data": {
      "text/plain": [
       "[[1, 2], [1, 3], [3, 4]]"
      ]
     },
     "execution_count": 22,
     "metadata": {},
     "output_type": "execute_result"
    }
   ],
   "source": [
    "a"
   ]
  },
  {
   "cell_type": "code",
   "execution_count": null,
   "metadata": {
    "collapsed": true
   },
   "outputs": [],
   "source": []
  }
 ],
 "metadata": {
  "kernelspec": {
   "display_name": "Python 2",
   "language": "python",
   "name": "python2"
  },
  "language_info": {
   "codemirror_mode": {
    "name": "ipython",
    "version": 2
   },
   "file_extension": ".py",
   "mimetype": "text/x-python",
   "name": "python",
   "nbconvert_exporter": "python",
   "pygments_lexer": "ipython2",
   "version": "2.7.13"
  }
 },
 "nbformat": 4,
 "nbformat_minor": 2
}

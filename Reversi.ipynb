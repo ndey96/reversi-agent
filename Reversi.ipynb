{
 "cells": [
  {
   "cell_type": "code",
   "execution_count": 33,
   "metadata": {
    "collapsed": false
   },
   "outputs": [],
   "source": [
    "BOARD_DIRECTIONS = (\n",
    "    (1,0),\n",
    "    (1,-1),\n",
    "    (0,-1),\n",
    "    (-1,-1),\n",
    "    (-1,0),\n",
    "    (-1,1),\n",
    "    (0,1),\n",
    "    (1,1),\n",
    ")\n",
    "\n",
    "def is_in_board(board, x, y):\n",
    "    board_width, board_height = get_board_dims(board)\n",
    "    return 0 <= x < board_width and 0 <= y < board_height\n",
    "\n",
    "def is_valid_move(board, player, x, y):\n",
    "    if not is_in_board(board, x, y) or board[y][x] != 0:\n",
    "        return None\n",
    "    other_player = get_other_player(player)\n",
    "    \n",
    "    board[y][x] = player # Temporarily place tile at x,y\n",
    "    tiles_to_flip = []\n",
    "    global BOARD_DIRECTIONS\n",
    "    for x_delta, y_delta in BOARD_DIRECTIONS:\n",
    "        x_curr = x + x_delta\n",
    "        y_curr = y + y_delta\n",
    "        if not is_in_board(board, x_curr, y_curr):\n",
    "            continue\n",
    "        tile_buffer = []\n",
    "        while board[y_curr][x_curr] == other_player:\n",
    "            tile_buffer.append((x_curr, y_curr))\n",
    "            x_curr += x_delta\n",
    "            y_curr += y_delta\n",
    "            if not is_in_board(board, x_curr, y_curr):\n",
    "                break\n",
    "        if is_in_board(board, x_curr, y_curr) and board[y_curr][x_curr] == player:\n",
    "            tiles_to_flip.extend(tile_buffer)\n",
    "    board[y][x] = 0 # Remove temporary tile at x,y\n",
    "    if len(tiles_to_flip) == 0:\n",
    "        return None\n",
    "    return tiles_to_flip\n",
    "\n",
    "def get_board_dims(board):\n",
    "    # returns (cols, rows)\n",
    "    return (len(board[0]), len(board))\n",
    "\n",
    "def get_valid_moves(board, player):\n",
    "    cols, rows = get_board_dims(board)\n",
    "    moves_dict = {}\n",
    "    for x in range(cols):\n",
    "        for y in range(rows):\n",
    "            if board[y][x] == 0:\n",
    "                tiles_to_flip = is_valid_move(board, player, x, y)\n",
    "                if tiles_to_flip != None:\n",
    "                    moves_dict[(x,y)] = tiles_to_flip\n",
    "    return moves_dict\n",
    "    \n",
    "def flip_tiles_on_board(board, player, tiles_to_flip):\n",
    "    for x,y in tiles_to_flip:\n",
    "        board[y][x] = player\n",
    "        \n",
    "def get_other_player(player):\n",
    "    if player == 1:\n",
    "        return 2\n",
    "    return 1\n",
    "\n",
    "def evaluate_board(board, player):\n",
    "    cols, rows = get_board_dims(board)\n",
    "    other_player = get_other_player(player)\n",
    "    num_tiles_for_player = 0\n",
    "    num_tiles_for_other_player = 0\n",
    "    for x in range(cols):\n",
    "        for y in range(rows):\n",
    "            tile = board[y][x]\n",
    "            if tile == player:\n",
    "                num_tiles_for_player += 1\n",
    "            if tile == other_player:\n",
    "                num_tiles_for_other_player += 1\n",
    "    return num_tiles_for_player - num_tiles_for_other_player\n",
    "\n",
    "class Node(object):\n",
    "    def __init__(self):\n",
    "        self.children = []\n",
    "        self.parent = None\n",
    "        self.eval_val = None\n",
    "        self.propagated_val = None\n",
    "        self.move = None # (x, y, player)\n",
    "        \n",
    "def build_tree(node, board, player):\n",
    "    moves_dict = get_valid_moves(board, player)\n",
    "    for x,y in moves_dict.keys():\n",
    "        board_copy = list(board)\n",
    "        board_copy[y][x] = player # Place player's tile at x,y\n",
    "        flip_tiles_on_board(board_copy, player, moves_dict[(x,y)])\n",
    "        \n",
    "        new_node = Node()\n",
    "        new_node.parent = node\n",
    "        new_node.eval_val = evaluate_board(board, player)\n",
    "        new_node.move = (x, y, player)\n",
    "        node.children.append(new_node)\n",
    "        \n",
    "        build_tree(new_node, board_copy, get_other_player(player))"
   ]
  },
  {
   "cell_type": "code",
   "execution_count": 42,
   "metadata": {
    "collapsed": false
   },
   "outputs": [
    {
     "ename": "TypeError",
     "evalue": "build_tree() got an unexpected keyword argument 'depth_limit'",
     "output_type": "error",
     "traceback": [
      "\u001b[0;31m---------------------------------------------------------------------------\u001b[0m",
      "\u001b[0;31mTypeError\u001b[0m                                 Traceback (most recent call last)",
      "\u001b[0;32m<ipython-input-42-0753cb4f073a>\u001b[0m in \u001b[0;36m<module>\u001b[0;34m()\u001b[0m\n\u001b[1;32m      5\u001b[0m ]\n\u001b[1;32m      6\u001b[0m \u001b[0mparent_node\u001b[0m \u001b[0;34m=\u001b[0m \u001b[0mNode\u001b[0m\u001b[0;34m(\u001b[0m\u001b[0;34m)\u001b[0m\u001b[0;34m\u001b[0m\u001b[0m\n\u001b[0;32m----> 7\u001b[0;31m \u001b[0mbuild_tree\u001b[0m\u001b[0;34m(\u001b[0m\u001b[0mparent_node\u001b[0m\u001b[0;34m,\u001b[0m \u001b[0mtest_board\u001b[0m\u001b[0;34m,\u001b[0m \u001b[0mplayer\u001b[0m\u001b[0;34m=\u001b[0m\u001b[0;36m1\u001b[0m\u001b[0;34m,\u001b[0m \u001b[0mdepth_limit\u001b[0m\u001b[0;34m=\u001b[0m\u001b[0;36m2\u001b[0m\u001b[0;34m)\u001b[0m\u001b[0;34m\u001b[0m\u001b[0m\n\u001b[0m",
      "\u001b[0;31mTypeError\u001b[0m: build_tree() got an unexpected keyword argument 'depth_limit'"
     ]
    }
   ],
   "source": [
    "test_board = [\n",
    "    [0,0,0],\n",
    "    [1,2,0],\n",
    "    [2,1,0],\n",
    "]\n",
    "parent_node = Node()\n",
    "build_tree(parent_node, test_board, player=1)"
   ]
  },
  {
   "cell_type": "code",
   "execution_count": 41,
   "metadata": {
    "collapsed": false
   },
   "outputs": [
    {
     "data": {
      "text/plain": [
       "(0, 0, 2)"
      ]
     },
     "execution_count": 41,
     "metadata": {},
     "output_type": "execute_result"
    }
   ],
   "source": [
    "parent_node.children[0].children[0].children[0].children[0].move"
   ]
  },
  {
   "cell_type": "code",
   "execution_count": null,
   "metadata": {
    "collapsed": false
   },
   "outputs": [],
   "source": []
  },
  {
   "cell_type": "code",
   "execution_count": 36,
   "metadata": {
    "collapsed": false
   },
   "outputs": [
    {
     "name": "stderr",
     "output_type": "stream",
     "text": [
      "test_build_tree (__main__.ReversiTests) ... ok\n",
      "test_get_valid_moves (__main__.ReversiTests) ... ok\n",
      "test_is_in_board (__main__.ReversiTests) ... ok\n",
      "test_is_valid_move (__main__.ReversiTests) ... ok\n",
      "\n",
      "----------------------------------------------------------------------\n",
      "Ran 4 tests in 0.008s\n",
      "\n",
      "OK\n"
     ]
    },
    {
     "data": {
      "text/plain": [
       "<unittest.runner.TextTestResult run=4 errors=0 failures=0>"
      ]
     },
     "execution_count": 36,
     "metadata": {},
     "output_type": "execute_result"
    }
   ],
   "source": [
    "import unittest\n",
    "\n",
    "class ReversiTests(unittest.TestCase):\n",
    "    \n",
    "    def test_build_tree(self):\n",
    "        test_board = [\n",
    "            [0,0,0],\n",
    "            [1,2,0],\n",
    "            [2,1,0],\n",
    "        ]\n",
    "        parent_node = Node()\n",
    "        build_tree(parent_node, test_board, 1)\n",
    "        self.assertEqual(parent_node.children[0].eval_val, 3)\n",
    "        self.assertEqual(parent_node.children[0].move, (1, 0, 1))\n",
    "        self.assertEqual(parent_node.children[1].move, (2, 1, 1))\n",
    "        self.assertEqual(parent_node.children[0].children[0].children[0].move, (2, 1, 1))\n",
    "    \n",
    "    def test_get_valid_moves(self):\n",
    "        test_board = [\n",
    "            [0,0,0,0,0],\n",
    "            [0,0,0,0,0],\n",
    "            [0,0,1,2,0],\n",
    "            [0,0,2,1,0],\n",
    "            [0,0,0,0,0]\n",
    "        ]\n",
    "        self.assertEqual(get_valid_moves(test_board, 1), {(4, 2): [(3, 2)], (1, 3): [(2, 3)], (3, 1): [(3, 2)], (2, 4): [(2, 3)]})\n",
    "        \n",
    "    def test_is_valid_move(self):\n",
    "        test_board = [\n",
    "            [0,0,0,0,0],\n",
    "            [0,0,0,0,0],\n",
    "            [0,0,1,2,0],\n",
    "            [0,0,2,1,0],\n",
    "            [0,0,0,0,0]\n",
    "        ]\n",
    "        self.assertEqual(is_valid_move(test_board, 1, 3, 1), [(3,2)])\n",
    "        self.assertEqual(is_valid_move(test_board, 1, 0, 0), None)\n",
    "        test_board_2 = [\n",
    "            [0,0,1,0,1],\n",
    "            [0,0,2,2,0],\n",
    "            [0,0,0,0,0],\n",
    "            [0,0,0,0,0],\n",
    "            [0,0,0,0,0]\n",
    "        ]\n",
    "        self.assertEqual(is_valid_move(test_board_2, 1, 2, 2), [(3,1), (2,1)])\n",
    "        self.assertEqual(is_valid_move(test_board_2, 1, 3, 0), None)\n",
    "        test_board_3 = [\n",
    "            [0,0,0],\n",
    "            [1,2,0],\n",
    "            [2,1,0],\n",
    "        ]\n",
    "        self.assertEqual(is_valid_move(test_board_3, 1, 1, 0), [(1,1)])\n",
    "\n",
    "    def test_is_in_board(self):\n",
    "        test_board = [[0]*5]*5\n",
    "        self.assertEqual(is_in_board(test_board, 4, 4), True)\n",
    "        self.assertEqual(is_in_board(test_board, 6, 4), False)\n",
    "        self.assertEqual(is_in_board(test_board, 4, -1), False)\n",
    "\n",
    "suite = unittest.TestLoader().loadTestsFromTestCase(ReversiTests)\n",
    "unittest.TextTestRunner(verbosity=2).run(suite)"
   ]
  },
  {
   "cell_type": "code",
   "execution_count": null,
   "metadata": {
    "collapsed": true
   },
   "outputs": [],
   "source": []
  }
 ],
 "metadata": {
  "kernelspec": {
   "display_name": "Python 2",
   "language": "python",
   "name": "python2"
  },
  "language_info": {
   "codemirror_mode": {
    "name": "ipython",
    "version": 2
   },
   "file_extension": ".py",
   "mimetype": "text/x-python",
   "name": "python",
   "nbconvert_exporter": "python",
   "pygments_lexer": "ipython2",
   "version": "2.7.13"
  }
 },
 "nbformat": 4,
 "nbformat_minor": 2
}

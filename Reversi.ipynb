{
 "cells": [
  {
   "cell_type": "code",
   "execution_count": 7,
   "metadata": {
    "collapsed": false
   },
   "outputs": [],
   "source": [
    "from copy import deepcopy\n",
    "\n",
    "BOARD_DIRECTIONS = (\n",
    "    (1,0),\n",
    "    (1,-1),\n",
    "    (0,-1),\n",
    "    (-1,-1),\n",
    "    (-1,0),\n",
    "    (-1,1),\n",
    "    (0,1),\n",
    "    (1,1),\n",
    ")\n",
    "\n",
    "def is_in_board(board, x, y):\n",
    "    board_width, board_height = get_board_dims(board)\n",
    "    return 0 <= x < board_width and 0 <= y < board_height\n",
    "\n",
    "def is_valid_move(board, player, x, y):\n",
    "    if not is_in_board(board, x, y) or board[y][x] != 0:\n",
    "        return None\n",
    "    other_player = get_other_player(player)\n",
    "    \n",
    "    board[y][x] = player # Temporarily place tile at x,y\n",
    "    tiles_to_flip = []\n",
    "    global BOARD_DIRECTIONS\n",
    "    for x_delta, y_delta in BOARD_DIRECTIONS:\n",
    "        x_curr = x + x_delta\n",
    "        y_curr = y + y_delta\n",
    "        if not is_in_board(board, x_curr, y_curr):\n",
    "            continue\n",
    "        tile_buffer = []\n",
    "        while board[y_curr][x_curr] == other_player:\n",
    "            tile_buffer.append((x_curr, y_curr))\n",
    "            x_curr += x_delta\n",
    "            y_curr += y_delta\n",
    "            if not is_in_board(board, x_curr, y_curr):\n",
    "                break\n",
    "        if is_in_board(board, x_curr, y_curr) and board[y_curr][x_curr] == player:\n",
    "            tiles_to_flip.extend(tile_buffer)\n",
    "    board[y][x] = 0 # Remove temporary tile at x,y\n",
    "    if len(tiles_to_flip) == 0:\n",
    "        return None\n",
    "    return tiles_to_flip\n",
    "\n",
    "def get_board_dims(board):\n",
    "    # returns (cols, rows)\n",
    "    return (len(board[0]), len(board))\n",
    "\n",
    "def get_valid_moves(board, player):\n",
    "    cols, rows = get_board_dims(board)\n",
    "    moves_dict = {}\n",
    "    for x in range(cols):\n",
    "        for y in range(rows):\n",
    "            if board[y][x] == 0:\n",
    "                tiles_to_flip = is_valid_move(board, player, x, y)\n",
    "                if tiles_to_flip != None:\n",
    "                    moves_dict[(x,y)] = tiles_to_flip\n",
    "    return moves_dict\n",
    "    \n",
    "def flip_tiles_on_board(board, player, tiles_to_flip):\n",
    "    for x,y in tiles_to_flip:\n",
    "        board[y][x] = player\n",
    "        \n",
    "def get_other_player(player):\n",
    "    if player == 1:\n",
    "        return 2\n",
    "    return 1\n",
    "\n",
    "def evaluate_board(board, player):\n",
    "    cols, rows = get_board_dims(board)\n",
    "    other_player = get_other_player(player)\n",
    "    num_tiles_for_player = 0\n",
    "    num_tiles_for_other_player = 0\n",
    "    for x in range(cols):\n",
    "        for y in range(rows):\n",
    "            tile = board[y][x]\n",
    "            if tile == player:\n",
    "                num_tiles_for_player += 1\n",
    "            if tile == other_player:\n",
    "                num_tiles_for_other_player += 1\n",
    "    return num_tiles_for_player - num_tiles_for_other_player\n",
    "\n",
    "class Node(object):\n",
    "    def __init__(self):\n",
    "        self.children = []\n",
    "        self.parent = None\n",
    "        self.eval_val = None\n",
    "        self.propagated_val = None\n",
    "        self.move = None # (x, y, player)\n",
    "        self.board = None\n",
    "        \n",
    "def get_num_of_parent_nodes(node):\n",
    "    depth = 0\n",
    "    curr_node = node\n",
    "    while curr_node.parent != None:\n",
    "        depth += 1\n",
    "        curr_node = curr_node.parent\n",
    "    return depth\n",
    "    \n",
    "def get_num_of_child_nodes(node):\n",
    "    depth = 0\n",
    "    curr_node = node\n",
    "    while curr_node.children != []:\n",
    "        depth += 1\n",
    "        curr_node = curr_node.children[0]\n",
    "    return depth\n",
    "\n",
    "def print_board(board):\n",
    "    cols, rows = get_board_dims(board)\n",
    "    for y in range(rows):\n",
    "        line = '|'\n",
    "        for x in range(cols):\n",
    "            line += str(board[y][x]) + '|'\n",
    "        print(line)\n",
    "    \n",
    "def build_tree(node, board, player, depth_limit=None, curr_player=None):\n",
    "    if depth_limit != None and get_num_of_parent_nodes(node) >= depth_limit:\n",
    "        return\n",
    "    if curr_player == None:\n",
    "        curr_player = player\n",
    "    moves_dict = get_valid_moves(board, curr_player)\n",
    "    for x,y in moves_dict.keys():\n",
    "#         print(x,y,curr_player)\n",
    "        board_copy = deepcopy(board)\n",
    "#         print(1,board_copy)\n",
    "        board_copy[y][x] = curr_player # Place player's tile at x,y\n",
    "#         print(2,board_copy)\n",
    "#         print('tiles_to_flip', moves_dict[(x,y)])\n",
    "        flip_tiles_on_board(board_copy, curr_player, moves_dict[(x,y)])\n",
    "#         print(3,board_copy)\n",
    "        \n",
    "        new_node = Node()\n",
    "        new_node.parent = node\n",
    "        new_node.eval_val = evaluate_board(board_copy, player)\n",
    "        new_node.move = (x, y, curr_player)\n",
    "#         new_node.board = board_copy # For debugging purposes\n",
    "        node.children.append(new_node)\n",
    "\n",
    "        build_tree(new_node, board_copy, player, depth_limit, curr_player=get_other_player(curr_player))\n",
    "        \n",
    "def get_path_from_parent(node):\n",
    "    path_to_parent = []\n",
    "    curr = node\n",
    "    while curr.parent != None:\n",
    "        path_to_parent.append(curr.move)\n",
    "        curr = curr.parent\n",
    "    return list(reversed(path_to_parent))\n",
    "    \n",
    "    \n",
    "class Lol:\n",
    "    def __init__(self):\n",
    "        self.best_score = float(\"-inf\")\n",
    "        self.best_path = []\n",
    "\n",
    "#     def minimax(node):\n",
    "#         best_score = float(\"-inf\")\n",
    "#         best_path = []\n",
    "#         _minimax(node, best_score, best_path)\n",
    "#         return best_score, best_path\n",
    "\n",
    "    def minimax(self, node):\n",
    "        if len(node.children) and node.children[0].children == []:\n",
    "            local_min = float(\"inf\")\n",
    "            min_node = None\n",
    "            for child in node.children:\n",
    "                if child.eval_val < self.best_score: # alpha-beta pruning\n",
    "                    break\n",
    "                if child.eval_val < local_min:\n",
    "                    local_min = child.eval_val\n",
    "                    min_node = child\n",
    "            if local_min > self.best_score:\n",
    "                self.best_score = local_min\n",
    "                self.best_path = get_path_from_parent(min_node)\n",
    "        else:\n",
    "            for child in node.children:\n",
    "                self.minimax(child)"
   ]
  },
  {
   "cell_type": "code",
   "execution_count": 8,
   "metadata": {
    "collapsed": false
   },
   "outputs": [],
   "source": [
    "test_board = [\n",
    "    [0,0,0],\n",
    "    [1,2,0],\n",
    "    [2,1,0],\n",
    "]\n",
    "parent_node = Node()\n",
    "parent_node.board = test_board\n",
    "build_tree(parent_node, test_board, player=1, depth_limit=4)"
   ]
  },
  {
   "cell_type": "code",
   "execution_count": 9,
   "metadata": {
    "collapsed": false
   },
   "outputs": [
    {
     "name": "stdout",
     "output_type": "stream",
     "text": [
      "(-2, [(1, 0, 1), (2, 0, 2), (2, 1, 1), (0, 0, 2)])\n"
     ]
    }
   ],
   "source": [
    "haha = Lol()\n",
    "haha.minimax(parent_node)\n",
    "print(haha.best_score, haha.best_path)\n",
    "# get_path_from_parent(parent_node.children[0].children[0].children[0].children[0])"
   ]
  },
  {
   "cell_type": "code",
   "execution_count": 10,
   "metadata": {
    "collapsed": false
   },
   "outputs": [
    {
     "name": "stdout",
     "output_type": "stream",
     "text": [
      "[<__main__.Node object at 0x10d94b650>, <__main__.Node object at 0x10d94ba50>]\n",
      "(1, 0, 1)\n",
      "3\n",
      "None\n",
      "(2, 0, 2)\n",
      "0\n",
      "None\n"
     ]
    }
   ],
   "source": [
    "print(parent_node.children)\n",
    "print(parent_node.children[0].move)\n",
    "print(parent_node.children[0].eval_val)\n",
    "print(parent_node.children[0].board)\n",
    "print(parent_node.children[0].children[0].move)\n",
    "print(parent_node.children[0].children[0].eval_val)\n",
    "print(parent_node.children[0].children[0].board)\n"
   ]
  },
  {
   "cell_type": "code",
   "execution_count": 11,
   "metadata": {
    "collapsed": false
   },
   "outputs": [],
   "source": [
    "test_board = [\n",
    "    [0,0,0,0,0,0,0,0],\n",
    "    [0,0,0,0,0,0,0,0],\n",
    "    [0,0,0,0,0,0,0,0],\n",
    "    [0,0,0,1,2,0,0,0],\n",
    "    [0,0,0,2,1,0,0,0],\n",
    "    [0,0,0,0,0,0,0,0],\n",
    "    [0,0,0,0,0,0,0,0],\n",
    "    [0,0,0,0,0,0,0,0],\n",
    "]\n",
    "parent_node = Node()\n",
    "parent_node.board = test_board\n",
    "build_tree(parent_node, test_board, player=1, depth_limit=5)"
   ]
  },
  {
   "cell_type": "code",
   "execution_count": 12,
   "metadata": {
    "collapsed": false
   },
   "outputs": [
    {
     "name": "stdout",
     "output_type": "stream",
     "text": [
      "None\n",
      "None\n",
      "[[0, 0, 0, 0, 0, 0, 0, 0], [0, 0, 0, 0, 0, 0, 0, 0], [0, 0, 0, 0, 0, 0, 0, 0], [0, 0, 0, 1, 2, 0, 0, 0], [0, 0, 0, 2, 1, 0, 0, 0], [0, 0, 0, 0, 0, 0, 0, 0], [0, 0, 0, 0, 0, 0, 0, 0], [0, 0, 0, 0, 0, 0, 0, 0]]\n",
      "=================================\n",
      "(4, 2, 1)\n",
      "3\n",
      "None\n",
      "=================================\n",
      "(3, 2, 2)\n",
      "0\n",
      "None\n",
      "=================================\n",
      "(2, 5, 1)\n",
      "3\n",
      "None\n",
      "=================================\n",
      "(5, 4, 2)\n",
      "0\n",
      "None\n",
      "=================================\n",
      "(6, 4, 1)\n",
      "3\n",
      "None\n",
      "=================================\n"
     ]
    }
   ],
   "source": [
    "# print(get_num_of_child_nodes(parent_node))\n",
    "\n",
    "def what_up(node, depth):\n",
    "    curr_depth = 0\n",
    "    curr = node\n",
    "    while curr_depth != depth:\n",
    "        curr = curr.children[0]\n",
    "        curr_depth += 1\n",
    "    print(curr.move)\n",
    "    print(curr.eval_val)\n",
    "    print(curr.board)\n",
    "    print('=================================')\n",
    "\n",
    "what_up(parent_node, 0)\n",
    "what_up(parent_node, 1)\n",
    "what_up(parent_node, 2)\n",
    "what_up(parent_node, 3)\n",
    "what_up(parent_node, 4)\n",
    "what_up(parent_node, 5)\n",
    "\n",
    "\n",
    "\n",
    "\n",
    "\n",
    "# print(parent_node.children)\n",
    "# print(parent_node.children[0].move)\n",
    "# print(parent_node.children[0].eval_val)\n",
    "# print(parent_node.children[0].board)\n",
    "# print(parent_node.children[0].children[0].move)\n",
    "# print(parent_node.children[0].children[0].eval_val)\n",
    "# print(parent_node.children[0].children[0].board)"
   ]
  },
  {
   "cell_type": "code",
   "execution_count": 13,
   "metadata": {
    "collapsed": false
   },
   "outputs": [
    {
     "name": "stderr",
     "output_type": "stream",
     "text": [
      "test_build_tree (__main__.ReversiTests) ... ok\n",
      "test_flip_tiles_on_board (__main__.ReversiTests) ... ok\n",
      "test_get_num_of_parent_nodes (__main__.ReversiTests) ... ok\n",
      "test_get_valid_moves (__main__.ReversiTests) ... ok\n",
      "test_is_in_board (__main__.ReversiTests) ... ok\n",
      "test_is_valid_move (__main__.ReversiTests) ... ok\n",
      "\n",
      "----------------------------------------------------------------------\n",
      "Ran 6 tests in 0.008s\n",
      "\n",
      "OK\n"
     ]
    },
    {
     "data": {
      "text/plain": [
       "<unittest.runner.TextTestResult run=6 errors=0 failures=0>"
      ]
     },
     "execution_count": 13,
     "metadata": {},
     "output_type": "execute_result"
    }
   ],
   "source": [
    "import unittest\n",
    "\n",
    "class ReversiTests(unittest.TestCase):\n",
    "    \n",
    "    def test_get_num_of_parent_nodes(self):\n",
    "        lol = Node()\n",
    "        self.assertEqual(get_num_of_parent_nodes(lol), 0)\n",
    "        lol.parent = Node()\n",
    "        self.assertEqual(get_num_of_parent_nodes(lol), 1)\n",
    "        lol.parent.parent = Node()\n",
    "        self.assertEqual(get_num_of_parent_nodes(lol), 2)\n",
    "    \n",
    "    def test_build_tree(self):\n",
    "        test_board = [\n",
    "            [0,0,0],\n",
    "            [1,2,0],\n",
    "            [2,1,0],\n",
    "        ]\n",
    "        parent_node = Node()\n",
    "        build_tree(parent_node, test_board, player=1, depth_limit=2)\n",
    "        self.assertEqual(parent_node.children[0].eval_val, 3)\n",
    "        self.assertEqual(parent_node.children[0].move, (1, 0, 1))\n",
    "        self.assertEqual(parent_node.children[1].move, (2, 1, 1))\n",
    "        self.assertEqual(parent_node.children[0].children[0].move, (2, 0, 2))\n",
    "        self.assertEqual(parent_node.children[0].children[0].children, [])\n",
    "    \n",
    "    def test_flip_tiles_on_board(self):\n",
    "        original = [\n",
    "            [0,1,2],\n",
    "            [1,1,0],\n",
    "            [2,1,0],\n",
    "        ]\n",
    "        after = [\n",
    "            [0,1,2],\n",
    "            [1,2,0],\n",
    "            [2,1,0],\n",
    "        ]\n",
    "        flip_tiles_on_board(original, 2, [(1,1)])\n",
    "        self.assertEqual(original, after)\n",
    "    \n",
    "    def test_get_valid_moves(self):\n",
    "        test_board = [\n",
    "            [0,0,0,0,0],\n",
    "            [0,0,0,0,0],\n",
    "            [0,0,1,2,0],\n",
    "            [0,0,2,1,0],\n",
    "            [0,0,0,0,0]\n",
    "        ]\n",
    "        self.assertEqual(get_valid_moves(test_board, 1), {(4, 2): [(3, 2)], (1, 3): [(2, 3)], (3, 1): [(3, 2)], (2, 4): [(2, 3)]})\n",
    "        test_board_2 = [\n",
    "            [0,0,0],\n",
    "            [1,2,0],\n",
    "            [2,1,0]\n",
    "        ]\n",
    "        self.assertEqual(get_valid_moves(test_board, 2), {})\n",
    "        \n",
    "    def test_is_valid_move(self):\n",
    "        test_board = [\n",
    "            [0,0,0,0,0],\n",
    "            [0,0,0,0,0],\n",
    "            [0,0,1,2,0],\n",
    "            [0,0,2,1,0],\n",
    "            [0,0,0,0,0]\n",
    "        ]\n",
    "        self.assertEqual(is_valid_move(test_board, 1, 3, 1), [(3,2)])\n",
    "        self.assertEqual(is_valid_move(test_board, 1, 0, 0), None)\n",
    "        test_board_2 = [\n",
    "            [0,0,1,0,1],\n",
    "            [0,0,2,2,0],\n",
    "            [0,0,0,0,0],\n",
    "            [0,0,0,0,0],\n",
    "            [0,0,0,0,0]\n",
    "        ]\n",
    "        self.assertEqual(is_valid_move(test_board_2, 1, 2, 2), [(3,1), (2,1)])\n",
    "        self.assertEqual(is_valid_move(test_board_2, 1, 3, 0), None)\n",
    "        test_board_3 = [\n",
    "            [0,0,0],\n",
    "            [1,2,0],\n",
    "            [2,1,0],\n",
    "        ]\n",
    "        self.assertEqual(is_valid_move(test_board_3, 1, 1, 0), [(1,1)])\n",
    "\n",
    "    def test_is_in_board(self):\n",
    "        test_board = [[0]*5]*5\n",
    "        self.assertEqual(is_in_board(test_board, 4, 4), True)\n",
    "        self.assertEqual(is_in_board(test_board, 6, 4), False)\n",
    "        self.assertEqual(is_in_board(test_board, 4, -1), False)\n",
    "\n",
    "suite = unittest.TestLoader().loadTestsFromTestCase(ReversiTests)\n",
    "unittest.TextTestRunner(verbosity=2).run(suite)"
   ]
  },
  {
   "cell_type": "code",
   "execution_count": 136,
   "metadata": {
    "collapsed": false
   },
   "outputs": [
    {
     "data": {
      "text/plain": [
       "(5, 3)"
      ]
     },
     "execution_count": 136,
     "metadata": {},
     "output_type": "execute_result"
    }
   ],
   "source": [
    "def get_cartesian_from_standard(standard):\n",
    "    return (ord(standard[0]) - 97, int(standard[1]))\n",
    "get_cartesian_from_standard('f3')"
   ]
  },
  {
   "cell_type": "code",
   "execution_count": 138,
   "metadata": {
    "collapsed": false
   },
   "outputs": [
    {
     "data": {
      "text/plain": [
       "'f3'"
      ]
     },
     "execution_count": 138,
     "metadata": {},
     "output_type": "execute_result"
    }
   ],
   "source": [
    "def get_standard_from_cartesian(cartesian):\n",
    "    x,y = cartesian\n",
    "    return str(unichr(x + 97)) + str(y)\n",
    "get_standard_from_cartesian((5,3))"
   ]
  },
  {
   "cell_type": "code",
   "execution_count": 302,
   "metadata": {
    "collapsed": false
   },
   "outputs": [
    {
     "name": "stdout",
     "output_type": "stream",
     "text": [
      "2\n"
     ]
    }
   ],
   "source": [
    "class Laurier:\n",
    "    def __init__(self):\n",
    "        self.x = 0\n",
    "    def change(self, y):\n",
    "        self.x += y\n",
    "lol = Laurier()\n",
    "lol.change(2)\n",
    "print(lol.x)"
   ]
  },
  {
   "cell_type": "code",
   "execution_count": null,
   "metadata": {
    "collapsed": true
   },
   "outputs": [],
   "source": []
  }
 ],
 "metadata": {
  "kernelspec": {
   "display_name": "Python 2",
   "language": "python",
   "name": "python2"
  },
  "language_info": {
   "codemirror_mode": {
    "name": "ipython",
    "version": 2
   },
   "file_extension": ".py",
   "mimetype": "text/x-python",
   "name": "python",
   "nbconvert_exporter": "python",
   "pygments_lexer": "ipython2",
   "version": "2.7.13"
  }
 },
 "nbformat": 4,
 "nbformat_minor": 2
}
